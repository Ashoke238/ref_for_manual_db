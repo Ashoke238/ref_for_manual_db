{
 "cells": [
  {
   "cell_type": "code",
   "execution_count": 0,
   "metadata": {
    "application/vnd.databricks.v1+cell": {
     "cellMetadata": {
      "byteLimit": 2048000,
      "rowLimit": 10000
     },
     "collapsed": true,
     "inputWidgets": {},
     "nuid": "ecc68c0d-68fa-43ae-bf24-a3e5883aa041",
     "showTitle": false,
     "tableResultSettingsMap": {},
     "title": ""
    }
   },
   "outputs": [],
   "source": [
    "# Databricks notebook source\n",
    "# MAGIC %md\n",
    "# MAGIC ## Demo_train_Notebook1\n",
    "# MAGIC This notebook is a minimal prototype for training a sample ML model on Databricks.\n",
    "# MAGIC \n",
    "# MAGIC **Purpose:** Demonstrate full notebook lifecycle for automation & job integration.\n",
    "# MAGIC \n",
    "# MAGIC - Uses mock data\n",
    "# MAGIC - Trains fast\n",
    "# MAGIC - Logs to MLflow\n",
    "# MAGIC - Staff-level architecture best practices\n"
   ]
  },
  {
   "cell_type": "code",
   "execution_count": 0,
   "metadata": {
    "application/vnd.databricks.v1+cell": {
     "cellMetadata": {
      "byteLimit": 2048000,
      "rowLimit": 10000
     },
     "inputWidgets": {},
     "nuid": "a4b1bbf0-2b2c-442a-8614-5cba516857b0",
     "showTitle": false,
     "tableResultSettingsMap": {},
     "title": ""
    }
   },
   "outputs": [],
   "source": [
    "#install dependencies\n",
    "%pip install pandas scikit-learn mlflow --quiet\n"
   ]
  },
  {
   "cell_type": "code",
   "execution_count": 0,
   "metadata": {
    "application/vnd.databricks.v1+cell": {
     "cellMetadata": {
      "byteLimit": 2048000,
      "rowLimit": 10000
     },
     "inputWidgets": {},
     "nuid": "589e641f-24b2-4be8-bf50-ec70b51d6b42",
     "showTitle": false,
     "tableResultSettingsMap": {},
     "title": ""
    }
   },
   "outputs": [],
   "source": [
    "# Section 2 - Imports & Setup\n",
    "\n",
    "import pandas as pd\n",
    "import numpy as np\n",
    "from sklearn.model_selection import train_test_split\n",
    "from sklearn.linear_model import LogisticRegression\n",
    "from sklearn.metrics import accuracy_score\n",
    "import mlflow\n",
    "import mlflow.sklearn\n",
    "from mlflow.tracking import MlflowClient\n",
    "from datetime import datetime\n",
    "import json\n",
    "\n"
   ]
  },
  {
   "cell_type": "code",
   "execution_count": 0,
   "metadata": {
    "application/vnd.databricks.v1+cell": {
     "cellMetadata": {
      "byteLimit": 2048000,
      "rowLimit": 10000
     },
     "inputWidgets": {},
     "nuid": "22b12e8c-4763-408b-a16d-8f229055b686",
     "showTitle": false,
     "tableResultSettingsMap": {},
     "title": ""
    }
   },
   "outputs": [],
   "source": [
    "data = pd.DataFrame({\n",
    "    \"feature1\": np.random.rand(100),\n",
    "    \"feature2\": np.random.rand(100),\n",
    "    \"label\": np.random.randint(0, 2, 100)\n",
    "})\n"
   ]
  },
  {
   "cell_type": "code",
   "execution_count": 0,
   "metadata": {
    "application/vnd.databricks.v1+cell": {
     "cellMetadata": {
      "byteLimit": 2048000,
      "rowLimit": 10000
     },
     "inputWidgets": {},
     "nuid": "dcf16a26-acf6-4fe1-b443-01c88d5d792f",
     "showTitle": false,
     "tableResultSettingsMap": {},
     "title": ""
    }
   },
   "outputs": [],
   "source": [
    "# For demo: keep preprocessing minimal\n",
    "X = data[[\"feature1\", \"feature2\"]]\n",
    "y = data[\"label\"]\n"
   ]
  },
  {
   "cell_type": "code",
   "execution_count": 0,
   "metadata": {
    "application/vnd.databricks.v1+cell": {
     "cellMetadata": {
      "byteLimit": 2048000,
      "rowLimit": 10000
     },
     "inputWidgets": {},
     "nuid": "6597b2b5-1661-4519-8ba4-a075fa24eba8",
     "showTitle": false,
     "tableResultSettingsMap": {},
     "title": ""
    }
   },
   "outputs": [],
   "source": [
    "X_train, X_test, y_train, y_test = train_test_split(X, y, test_size=0.2, random_state=42)\n"
   ]
  },
  {
   "cell_type": "code",
   "execution_count": 0,
   "metadata": {
    "application/vnd.databricks.v1+cell": {
     "cellMetadata": {
      "byteLimit": 2048000,
      "rowLimit": 10000
     },
     "inputWidgets": {},
     "nuid": "2cba0411-0274-40fe-8d0e-1218a7e21eda",
     "showTitle": false,
     "tableResultSettingsMap": {},
     "title": ""
    }
   },
   "outputs": [],
   "source": [
    "model = LogisticRegression()\n",
    "model.fit(X_train, y_train)\n"
   ]
  },
  {
   "cell_type": "code",
   "execution_count": 0,
   "metadata": {
    "application/vnd.databricks.v1+cell": {
     "cellMetadata": {
      "byteLimit": 2048000,
      "rowLimit": 10000
     },
     "inputWidgets": {},
     "nuid": "eb0129c2-6cf8-44d5-b15b-c30d88474385",
     "showTitle": false,
     "tableResultSettingsMap": {},
     "title": ""
    }
   },
   "outputs": [],
   "source": [
    "predictions = model.predict(X_test)\n",
    "acc = accuracy_score(y_test, predictions)\n",
    "print(f\"Accuracy: {acc}\")\n"
   ]
  },
  {
   "cell_type": "code",
   "execution_count": 0,
   "metadata": {
    "application/vnd.databricks.v1+cell": {
     "cellMetadata": {
      "byteLimit": 2048000,
      "rowLimit": 10000
     },
     "inputWidgets": {},
     "nuid": "542da055-35f0-4f48-9318-26c0aee73448",
     "showTitle": false,
     "tableResultSettingsMap": {},
     "title": ""
    }
   },
   "outputs": [],
   "source": [
    "# Section 8 - MLflow Tracking\n",
    "\n",
    "# Get notebook context as JSON (safe for all Databricks environments)\n",
    "notebook_context = dbutils.notebook.entry_point.getDbutils().notebook().getContext()\n",
    "context_json = json.loads(notebook_context.toJson())\n",
    "\n",
    "# Extract Git-related info from context\n",
    "git_info = context_json.get(\"extraContext\", {})\n",
    "git_url = git_info.get(\"vcs.repo.url\", \"\")\n",
    "branch_name = git_info.get(\"vcs.branch\", \"unknown\")\n",
    "\n",
    "# Derive repo name from Git URL\n",
    "if git_url:\n",
    "    from urllib.parse import urlparse\n",
    "    repo_name = urlparse(git_url).path.strip(\"/\").replace(\".git\", \"\").split(\"/\")[-1]\n",
    "else:\n",
    "    repo_name = \"unknown-repo\"\n",
    "\n",
    "# Derive environment from branch\n",
    "env = \"prod\" if branch_name == \"main\" else \"dev\"\n",
    "\n",
    "# Build dynamic experiment path\n",
    "experiment_path = f\"/Users/{user_email}/{repo_name}_train_{env}\"\n",
    "\n",
    "# Ensure experiment exists\n",
    "client = MlflowClient()\n",
    "if not client.get_experiment_by_name(experiment_path):\n",
    "    client.create_experiment(experiment_path)\n",
    "\n",
    "mlflow.set_experiment(experiment_path)\n",
    "\n",
    "# Clean up any stale run\n",
    "if mlflow.active_run():\n",
    "    mlflow.end_run()\n",
    "\n",
    "# Define dynamic run name\n",
    "run_name = f\"{repo_name}-train-{env}\"\n",
    "\n",
    "# Start MLflow run\n",
    "with mlflow.start_run(run_name=run_name):\n",
    "    mlflow.set_tags({\n",
    "        \"project\": repo_name,\n",
    "        \"notebook\": \"Demo_train_Notebook1\",\n",
    "        \"branch\": branch_name,\n",
    "        \"env\": env,\n",
    "        \"owner\": user_email,\n",
    "        \"run_type\": \"train\",\n",
    "        \"date\": datetime.today().strftime('%Y-%m-%d')\n",
    "    })\n",
    "\n",
    "    mlflow.log_param(\"model_type\", \"LogisticRegression\")\n",
    "    mlflow.log_param(\"train_rows\", len(X_train))\n",
    "    mlflow.log_param(\"features\", X.columns.tolist())\n",
    "\n",
    "    mlflow.log_metric(\"accuracy\", acc)\n",
    "    mlflow.sklearn.log_model(model, \"model\")\n",
    "\n",
    "    print(f\"✅ Model logged to MLflow under run '{run_name}' on branch '{branch_name}' and env '{env}'\")\n"
   ]
  },
  {
   "cell_type": "code",
   "execution_count": 0,
   "metadata": {
    "application/vnd.databricks.v1+cell": {
     "cellMetadata": {
      "byteLimit": 2048000,
      "rowLimit": 10000
     },
     "collapsed": true,
     "inputWidgets": {},
     "nuid": "2a895cd5-40b8-45b4-b309-27f54e91b1cf",
     "showTitle": false,
     "tableResultSettingsMap": {},
     "title": ""
    }
   },
   "outputs": [],
   "source": [
    "print(\"✅ Training complete and model logged.\")\n"
   ]
  }
 ],
 "metadata": {
  "application/vnd.databricks.v1+notebook": {
   "computePreferences": null,
   "dashboards": [],
   "environmentMetadata": {
    "base_environment": "",
    "environment_version": "2"
   },
   "language": "python",
   "notebookMetadata": {
    "pythonIndentUnit": 4
   },
   "notebookName": "Demo_train_Notebook1",
   "widgets": {}
  },
  "language_info": {
   "name": "python"
  }
 },
 "nbformat": 4,
 "nbformat_minor": 0
}
